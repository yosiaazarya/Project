{
  "nbformat": 4,
  "nbformat_minor": 0,
  "metadata": {
    "colab": {
      "name": "tweepy training.ipynb",
      "provenance": []
    },
    "kernelspec": {
      "name": "python3",
      "display_name": "Python 3"
    }
  },
  "cells": [
    {
      "cell_type": "markdown",
      "metadata": {
        "id": "68LRsLqbbiIx",
        "colab_type": "text"
      },
      "source": [
        "test tweepy 1 yosia"
      ]
    },
    {
      "cell_type": "code",
      "metadata": {
        "id": "l38sKRtibgMO",
        "colab_type": "code",
        "colab": {}
      },
      "source": [
        "import tweepy\n",
        "from tweepy import OAuthHandler\n",
        "\n",
        "consumer_key = 'I46Q7ivTc1RUyvELwa9Cq5Ve2'\n",
        "consumer_secret = '5KDKxtknmaUjaxkz1bCwL2DpHqSb3sAOFKSHWmbhxdPlQfv9WF'\n",
        "access_token = '40819539-KteoSEoTObWF2D202ud8wDbnnxa1uIV1Hs05EInBg'\n",
        "access_secret = 'DhyaJl0LC7BC9RJ0m1WIP3k6x1tEV8FNDrGxA88XpJ5T1'\n",
        "\n",
        "auth = OAuthHandler(consumer_key, consumer_secret)\n",
        "auth.set_access_token(access_token, access_secret)\n",
        "api = tweepy.API(auth)\n",
        "\n",
        "target = ['karniilyas', 'mohmahfudmd', 'detikcom', 'kompascom', 'korantempo']\n",
        "\n",
        "for siapapun in target:\n",
        "    user = api.get_user(id=siapapun)\n",
        "    \n",
        "    with open(siapapun+'_tweets.txt', 'w') as myfile:\n",
        "        myfile.write(\"Info \\n\")\n",
        "        myfile.write(\"\\n\")\n",
        "        myfile.write(\"Account : \" + siapapun + \"\\n\")\n",
        "        myfile.write(\"\\n\")\n",
        "        myfile.write(\"Name : \" + user.name + \"\\n\")\n",
        "        myfile.write(\"\\n\")\n",
        "        myfile.write(\"Screen Name : \" + user.screen_name + \"\\n\")\n",
        "        myfile.write(\"\\n\")\n",
        "        myfile.write(\"Description : \" + user.description + \"\\n\")\n",
        "        myfile.write(\"\\n\")\n",
        "        myfile.write(\"Followers count : \" + str (user.followers_count) + \"\\n\")\n",
        "        myfile.write(\"\\n\")\n",
        "        myfile.write(\"Last 20 Tweets\")\n",
        "        myfile.write(\"\\n\")\n",
        "        \n",
        "        for status in tweepy.Cursor(api.user_timeline, id=siapapun).items(20):\n",
        "        \n",
        "            myfile.write(status.text + \"\\n\")\n",
        "            myfile.write(\"\\n\")\n"
      ],
      "execution_count": null,
      "outputs": []
    }
  ]
}